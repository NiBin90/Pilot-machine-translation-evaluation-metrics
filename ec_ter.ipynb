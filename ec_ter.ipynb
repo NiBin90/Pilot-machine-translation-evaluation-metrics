{
 "cells": [
  {
   "cell_type": "code",
   "execution_count": null,
   "metadata": {},
   "outputs": [],
   "source": [
    "import pyter\n",
    "import os\n",
    "import nltk\n",
    "from nltk.tokenize import RegexpTokenizer\n",
    "tokenizer = RegexpTokenizer(r'\\w+')"
   ]
  },
  {
   "cell_type": "code",
   "execution_count": null,
   "metadata": {},
   "outputs": [],
   "source": [
    "def cac_avg(l):\n",
    "    s = 0\n",
    "    for i in l:\n",
    "        s+=float(i)\n",
    "    return s/len(l)\n",
    "\n",
    "def cal_ter(references, candidate):\n",
    "    references = [\" \".join(tokenizer.tokenize(i)) for i in references]\n",
    "    candidate = \" \".join(tokenizer.tokenize(candidate))\n",
    "    scores = []\n",
    "    for r in references:\n",
    "        scores.append(pyter.ter(r.replace(\" \",\"\"), candidate.replace(\" \",\"\")))\n",
    "    return cac_avg(scores)"
   ]
  },
  {
   "cell_type": "code",
   "execution_count": null,
   "metadata": {},
   "outputs": [],
   "source": [
    "refs = []\n",
    "with open(\"./references/EC/1.EC ref.txt\", encoding=\"utf8\") as f:\n",
    "    refs.append(f.readlines())\n",
    "with open(\"./references/EC/2.EC ref.txt\", encoding=\"utf8\") as f:\n",
    "    refs.append(f.readlines())\n",
    "with open(\"./references/EC/3.EC ref.txt\", encoding=\"utf8\") as f:\n",
    "    refs.append(f.readlines())\n",
    "with open(\"./references/EC/4.EC ref.txt\", encoding=\"utf8\") as f:\n",
    "    refs.append(f.readlines())\n",
    "\n",
    "p_refs = []\n",
    "n=0\n",
    "for ref in refs:\n",
    "    t = []\n",
    "    n+=1\n",
    "    for s in ref:\n",
    "        if len(s)>5:\n",
    "            a=s[s.index(\".\")+1:].strip().lower()\n",
    "            t.append(a)\n",
    "    p_refs.append(t)\n",
    "refs = p_refs\n",
    "  \n",
    "file_path = \"./E-C transcripts-sentence-txt/\"\n",
    "\n",
    "files = []\n",
    "for i,j,k in os.walk(file_path):\n",
    "    files.extend(k)\n"
   ]
  },
  {
   "cell_type": "code",
   "execution_count": null,
   "metadata": {},
   "outputs": [],
   "source": [
    "ter_dict = {}\n",
    "for fn in files:\n",
    "    with open(file_path+fn, \"r\", encoding=\"utf8\") as f:\n",
    "        pgs = f.readlines()\n",
    "        t=[]\n",
    "        for s in pgs:\n",
    "            if len(s)>5:\n",
    "                print(fn)\n",
    "                print(s)\n",
    "                a=s[s.index(\".\")+1:].strip().lower()\n",
    "                t.append(a)\n",
    "        pgs = t\n",
    "        key = fn.split(\".\")[0]\n",
    "        ter_dict[key] = {\"ter_val\":[],\"avg_ter\":0}           \n",
    "        for i in range(len(pgs)):\n",
    "            p_refs =[] \n",
    "            for j in range(len(refs)):         \n",
    "                p_refs.append(refs[j][i])\n",
    "            te_scores = cal_ter(p_refs, pgs[i])\n",
    "            ter_dict[key][\"ter_val\"].append(te_scores)\n",
    "        ter_dict[key][\"avg_ter\"] = cac_avg(ter_dict[key][\"ter_val\"])\n",
    "print(ter_dict)  "
   ]
  },
  {
   "cell_type": "code",
   "execution_count": null,
   "metadata": {},
   "outputs": [],
   "source": [
    "import json\n",
    "with open(\"ec_ter_score.json\", \"w\", encoding=\"utf8\") as f:\n",
    "    json.dump(ter_dict, f, indent=4,sort_keys=True)"
   ]
  },
  {
   "cell_type": "code",
   "execution_count": null,
   "metadata": {},
   "outputs": [],
   "source": [
    "with open(\"ec_ter_score.json\", encoding=\"utf8\") as f:\n",
    "    r = json.load(f)"
   ]
  },
  {
   "cell_type": "code",
   "execution_count": null,
   "metadata": {},
   "outputs": [],
   "source": [
    "for k in r:\n",
    "    print(k,str(1.0/r[k][\"avg_ter\"]))"
   ]
  }
 ],
 "metadata": {
  "kernelspec": {
   "display_name": "Python 3",
   "language": "python",
   "name": "python3"
  },
  "language_info": {
   "codemirror_mode": {
    "name": "ipython",
    "version": 3
   },
   "file_extension": ".py",
   "mimetype": "text/x-python",
   "name": "python",
   "nbconvert_exporter": "python",
   "pygments_lexer": "ipython3",
   "version": "3.6.8"
  }
 },
 "nbformat": 4,
 "nbformat_minor": 4
}

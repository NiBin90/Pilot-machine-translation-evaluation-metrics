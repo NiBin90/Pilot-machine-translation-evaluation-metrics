{
 "cells": [
  {
   "cell_type": "code",
   "execution_count": null,
   "metadata": {},
   "outputs": [],
   "source": [
    "from nltk.translate.bleu_score import sentence_bleu\n",
    "import os\n",
    "import nltk\n",
    "from nltk.tokenize import RegexpTokenizer\n",
    "\n",
    "tokenizer = RegexpTokenizer(r'\\w+')"
   ]
  },
  {
   "cell_type": "code",
   "execution_count": null,
   "metadata": {},
   "outputs": [],
   "source": [
    "def cac_avg(l):\n",
    "    s = 0\n",
    "    for i in l:\n",
    "        s+=float(i)\n",
    "    return s/len(l)\n",
    "    \n",
    "def cal_bleu(references, candidate):\n",
    "    references = [\" \".join(tokenizer.tokenize(i)) for i in references]\n",
    "    candidate = \" \".join(tokenizer.tokenize(candidate))\n",
    "    refs = []\n",
    "    for ref in references:\n",
    "        t = []\n",
    "        sents  = [i for i in ref if i!=\" \"]\n",
    "        refs.append(sents)\n",
    "    cands = [i for i in candidate if i!=\" \"]\n",
    "    #import pdb;pdb.set_trace()\n",
    "    print(refs, cands)\n",
    "    score = sentence_bleu(refs, cands, weights = [0.95,0.05])\n",
    "    return score"
   ]
  },
  {
   "cell_type": "code",
   "execution_count": null,
   "metadata": {},
   "outputs": [],
   "source": [
    "\n",
    "refs = []\n",
    "with open(\"./references/EC/1.EC ref.txt\", encoding=\"utf8\") as f:\n",
    "    refs.append(f.readlines())\n",
    "with open(\"./references/EC/2.EC ref.txt\", encoding=\"utf8\") as f:\n",
    "    refs.append(f.readlines())\n",
    "with open(\"./references/EC/3.EC ref.txt\", encoding=\"utf8\") as f:\n",
    "    refs.append(f.readlines())\n",
    "with open(\"./references/EC/4.EC ref.txt\", encoding=\"utf8\") as f:\n",
    "    refs.append(f.readlines())\n",
    "\n",
    "p_refs = []\n",
    "n=0\n",
    "for ref in refs:\n",
    "    t = []\n",
    "    n+=1\n",
    "    for s in ref:\n",
    "        if len(s)>5:\n",
    "            a=s[s.index(\".\")+1:].strip().lower()\n",
    "            t.append(a)\n",
    "    p_refs.append(t)\n",
    "refs = p_refs\n",
    "  \n",
    "file_path = \"./E-C transcripts-sentence-txt/\"\n",
    "\n",
    "files = []\n",
    "for i,j,k in os.walk(file_path):\n",
    "    files.extend(k)\n"
   ]
  },
  {
   "cell_type": "code",
   "execution_count": null,
   "metadata": {},
   "outputs": [],
   "source": [
    "bleus = {}\n",
    "for fn in files:\n",
    "    with open(file_path+fn, \"r\", encoding=\"utf8\") as f:\n",
    "        pgs = f.readlines()\n",
    "        t=[]\n",
    "        for s in pgs:\n",
    "            if len(s)>5:\n",
    "                print(fn)\n",
    "                print(s)\n",
    "                a=s[s.index(\".\")+1:].strip().lower()\n",
    "                t.append(a)\n",
    "        pgs = t\n",
    "        key = fn.split(\".\")[0]\n",
    "        bleus[key] = {\"bleu_val\":[],\"avg_bleu\":0}           \n",
    "        for i in range(len(pgs)):\n",
    "            p_refs =[] \n",
    "            for j in range(len(refs)):         \n",
    "                p_refs.append(refs[j][i])\n",
    "            bleu_scores = cal_bleu(p_refs, pgs[i])\n",
    "            bleus[key][\"bleu_val\"].append(bleu_scores)\n",
    "        bleus[key][\"avg_bleu\"] = cac_avg(bleus[key][\"bleu_val\"])\n",
    "import json\n",
    "with open(\"ec_bleu_score.json\", \"w\", encoding=\"utf8\") as f:\n",
    "    json.dump(bleus, f, indent=4,sort_keys=True)\n",
    "print(bleus)  "
   ]
  },
  {
   "cell_type": "code",
   "execution_count": null,
   "metadata": {},
   "outputs": [],
   "source": [
    "with open(\"ec_bleu_score.json\", encoding=\"utf8\") as f:\n",
    "    r = json.load(f)"
   ]
  },
  {
   "cell_type": "code",
   "execution_count": null,
   "metadata": {},
   "outputs": [],
   "source": [
    "for k in r:\n",
    "    print(str(r[k][\"avg_bleu\"]))"
   ]
  }
 ],
 "metadata": {
  "kernelspec": {
   "display_name": "Python 3",
   "language": "python",
   "name": "python3"
  },
  "language_info": {
   "codemirror_mode": {
    "name": "ipython",
    "version": 3
   },
   "file_extension": ".py",
   "mimetype": "text/x-python",
   "name": "python",
   "nbconvert_exporter": "python",
   "pygments_lexer": "ipython3",
   "version": "3.6.8"
  }
 },
 "nbformat": 4,
 "nbformat_minor": 4
}

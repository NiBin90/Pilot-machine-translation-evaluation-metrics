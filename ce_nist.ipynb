{
 "cells": [
  {
   "cell_type": "code",
   "execution_count": null,
   "metadata": {},
   "outputs": [],
   "source": [
    "from nltk.translate.nist_score import sentence_nist\n",
    "import os\n",
    "import nltk\n",
    "from nltk.tokenize import RegexpTokenizer\n",
    "\n",
    "tokenizer = RegexpTokenizer(r'\\w+')"
   ]
  },
  {
   "cell_type": "code",
   "execution_count": null,
   "metadata": {},
   "outputs": [],
   "source": [
    "def cac_avg(l):\n",
    "    s = 0\n",
    "    for i in l:\n",
    "        s+=float(i)\n",
    "    return s/len(l)\n",
    "    \n",
    "def cal_nist(references, candidate):\n",
    "    references = [\" \".join(tokenizer.tokenize(i)) for i in references]\n",
    "    candidate = \" \".join(tokenizer.tokenize(candidate))\n",
    "\n",
    "    refs = []\n",
    "    for ref in references:\n",
    "        t = []\n",
    "        sents  = nltk.sent_tokenize(ref)\n",
    "        words = []\n",
    "        for sent in sents:\n",
    "            words.extend(nltk.word_tokenize(sent))\n",
    "        refs.append(words)\n",
    "    sents = nltk.sent_tokenize(candidate)\n",
    "    cands = []\n",
    "    for sent in sents:\n",
    "        cands.extend(nltk.word_tokenize(sent))\n",
    "    try:\n",
    "        score=sentence_nist(refs, cands,)\n",
    "    except ZeroDivisionError as ze:\n",
    "        score = 0\n",
    "    return score\n",
    "import spacy\n",
    "nlp =spacy.load('en_core_web_sm')\n",
    "def cut(s):\n",
    "    doc = nlp(s)\n",
    "    tokens = [i.text for i in doc]\n",
    "    return \" \".join(tokens)"
   ]
  },
  {
   "cell_type": "code",
   "execution_count": null,
   "metadata": {},
   "outputs": [],
   "source": [
    "refs = []\n",
    "with open(\"./references/CE/1.CE ref.txt\", encoding=\"utf8\") as f:\n",
    "    refs.append(f.readlines())\n",
    "with open(\"./references/CE/2.CE ref.txt\", encoding=\"utf8\") as f:\n",
    "    refs.append(f.readlines())\n",
    "with open(\"./references/CE/3.CE ref.txt\", encoding=\"utf8\") as f:\n",
    "    refs.append(f.readlines())\n",
    "with open(\"./references/CE/4.CE ref.txt\", encoding=\"utf8\") as f:\n",
    "    refs.append(f.readlines())\n",
    "\n",
    "p_refs = []\n",
    "n=0\n",
    "for ref in refs:\n",
    "    t = []\n",
    "    n+=1\n",
    "    for s in ref:\n",
    "        if len(s)>5:\n",
    "            a=s[s.index(\".\")+1:].strip().lower()\n",
    "            t.append(cut(a))\n",
    "    p_refs.append(t)\n",
    "refs = p_refs\n",
    "  \n",
    "file_path = \"./C-E transcripts-sentence-txt/\"\n",
    "\n",
    "files = []\n",
    "for i,j,k in os.walk(file_path):\n",
    "    files.extend(k)\n"
   ]
  },
  {
   "cell_type": "code",
   "execution_count": null,
   "metadata": {},
   "outputs": [],
   "source": [
    "nist_dict = {}\n",
    "for fn in files:\n",
    "    with open(file_path+fn, \"r\", encoding=\"utf8\") as f:\n",
    "        print(fn)\n",
    "        pgs = f.readlines()\n",
    "        key = fn.split(\".\")[0]\n",
    "        nist_dict[key] = {\"nist_val\":[],\"avg_nist\":0}           \n",
    "        for i in range(len(pgs)):\n",
    "            p_refs =[] \n",
    "            for j in range(len(refs)):             \n",
    "                p_refs.append(refs[j][i])\n",
    "            nist_scores = cal_nist(p_refs, pgs[i])\n",
    "            nist_dict[key][\"nist_val\"].append(nist_scores)\n",
    "        nist_dict[key][\"avg_nist\"] = cac_avg(nist_dict[key][\"nist_val\"])\n",
    "import json\n",
    "with open(\"ce_nist_score.json\", \"w\", encoding=\"utf8\") as f:\n",
    "    json.dump(nist_dict, f, indent=4,sort_keys=True)\n",
    "print(nist_dict)  "
   ]
  },
  {
   "cell_type": "code",
   "execution_count": null,
   "metadata": {},
   "outputs": [],
   "source": [
    "with open(\"ce_nist_score.json\", encoding=\"utf8\") as f:\n",
    "    r = json.load(f)"
   ]
  },
  {
   "cell_type": "code",
   "execution_count": null,
   "metadata": {},
   "outputs": [],
   "source": [
    "for k in r:\n",
    "    print(k,str(r[k][\"avg_nist\"]))"
   ]
  }
 ],
 "metadata": {
  "kernelspec": {
   "display_name": "Python 3",
   "language": "python",
   "name": "python3"
  },
  "language_info": {
   "codemirror_mode": {
    "name": "ipython",
    "version": 3
   },
   "file_extension": ".py",
   "mimetype": "text/x-python",
   "name": "python",
   "nbconvert_exporter": "python",
   "pygments_lexer": "ipython3",
   "version": "3.6.8"
  }
 },
 "nbformat": 4,
 "nbformat_minor": 4
}
